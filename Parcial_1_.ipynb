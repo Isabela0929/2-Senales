{
  "nbformat": 4,
  "nbformat_minor": 0,
  "metadata": {
    "colab": {
      "provenance": [],
      "authorship_tag": "ABX9TyNavfnj5nWq/wetgqh7Gpq0",
      "include_colab_link": true
    },
    "kernelspec": {
      "name": "python3",
      "display_name": "Python 3"
    },
    "language_info": {
      "name": "python"
    }
  },
  "cells": [
    {
      "cell_type": "markdown",
      "metadata": {
        "id": "view-in-github",
        "colab_type": "text"
      },
      "source": [
        "<a href=\"https://colab.research.google.com/github/Isabela0929/2-Senales/blob/main/Parcial_1_.ipynb\" target=\"_parent\"><img src=\"https://colab.research.google.com/assets/colab-badge.svg\" alt=\"Open In Colab\"/></a>"
      ]
    },
    {
      "cell_type": "code",
      "execution_count": 6,
      "metadata": {
        "colab": {
          "base_uri": "https://localhost:8080/",
          "height": 141
        },
        "id": "3oD1MmhHwarb",
        "outputId": "bf28ddf9-27ec-4773-f37e-cd3d5a631640"
      },
      "outputs": [
        {
          "output_type": "error",
          "ename": "IndentationError",
          "evalue": "ignored",
          "traceback": [
            "\u001b[0;36m  File \u001b[0;32m\"<ipython-input-6-eabc4ce77320>\"\u001b[0;36m, line \u001b[0;32m5\u001b[0m\n\u001b[0;31m    Fo = 2/np.pi\u001b[0m\n\u001b[0m    ^\u001b[0m\n\u001b[0;31mIndentationError\u001b[0m\u001b[0;31m:\u001b[0m expected an indented block after function definition on line 4\n"
          ]
        }
      ],
      "source": [
        "#parcial 1\n",
        "import numpy as np\n",
        "import matplotlib.pyplot as plt\n",
        "def my_ceropen(x,ymin = -5, ymax = 5):\n",
        "Fo = 2/np.pi\n",
        "fe= 5/2*np.pi\n",
        "fi= 5/np.pi\n",
        "Fs = 50*Fo\n",
        "A = 120\n",
        "Ts = 1/Fs\n",
        "To = 1/Fo\n",
        "ti = 0 # tiempo incial referencia [s]\n",
        "ti = 0 # tiempo incial referencia [s]\n",
        "tf = To # tiempo final  [s]\n",
        "tw = np.arange(ti,tf,Ts)\n",
        "\n",
        "se = 7*np.sen(2*np.pi*Fo*tw) - 2*np.cos(2*np.pi*fe*tw)+ 2*np.cos(2*np.pi*fi*tw)\n",
        "\n",
        "\n",
        "ycs = my_ceropen(se, ymin=0,ymax=10) #cero y pendiente\n",
        "\n",
        "nbits = 3 #número de bits y vector de cuantización\n",
        "rmin = -5\n",
        "rmax = 5\n",
        "\n",
        "ve = np.linspace(rmin,rmax,2**nbits)\n",
        "d.shape\n",
        "\n",
        "ind = np.argmin(d,axis=1)\n",
        "ind\n",
        "\n",
        "def my_cuantizador(yn, vq) :\n",
        " Ne=vq.shape[0]\n",
        " dn = cdist(yn.reshape(-1,1),vq.reshape(-1,1))\n",
        " ind = np.argmin(dn)\n",
        " return vq[ind]\n",
        "\n",
        "for i in range(ycs.shape[0]):\n",
        "   if i==0:\n",
        "     yq = my_cuantizador(ycs[i],ve)\n",
        "   else:\n",
        "     yq = np.append(yq,my_cuantizador(ycs[i],ve))\n",
        "\n",
        "\n",
        "plt.plot(it,ycs,c='r', label='ycs')#cs continua\n",
        "\n",
        "plt.stem(it,ycs, label='ycs_dis')#cs discreta\n",
        "\n",
        "#estados de cuantización\n",
        "\n",
        "for v in ve:\n",
        "  plt.plot(it,v*np.ones(len(it)))\n",
        "\n",
        "# graficar señal Digital (discreta + cuantizada)\n",
        "\n",
        "plt.plot(it,yq,c='y',marker='o',label='ydig', linewidth=2)\n",
        "\n",
        "plt.legend()\n",
        "plt.grid()\n",
        "plt.xlabel('t')\n",
        "plt.ylabel('Amplitud')\n",
        "plt.show()"
      ]
    }
  ]
}