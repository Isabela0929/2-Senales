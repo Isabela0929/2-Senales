{
  "nbformat": 4,
  "nbformat_minor": 0,
  "metadata": {
    "colab": {
      "provenance": [],
      "authorship_tag": "ABX9TyPGZgg/nwb2n0czZRqHQzs2",
      "include_colab_link": true
    },
    "kernelspec": {
      "name": "python3",
      "display_name": "Python 3"
    },
    "language_info": {
      "name": "python"
    }
  },
  "cells": [
    {
      "cell_type": "markdown",
      "metadata": {
        "id": "view-in-github",
        "colab_type": "text"
      },
      "source": [
        "<a href=\"https://colab.research.google.com/github/Isabela0929/2-Senales/blob/main/Parcial_3_punto_1.ipynb\" target=\"_parent\"><img src=\"https://colab.research.google.com/assets/colab-badge.svg\" alt=\"Open In Colab\"/></a>"
      ]
    },
    {
      "cell_type": "markdown",
      "source": [
        "**Parcial 3 - Punto 1**"
      ],
      "metadata": {
        "id": "Zho0EiSyyaFD"
      }
    },
    {
      "cell_type": "markdown",
      "source": [
        "Simulación (péndulo)"
      ],
      "metadata": {
        "id": "-7D3K-71zcgr"
      }
    },
    {
      "cell_type": "code",
      "source": [
        "!pip install sympy --upgrade #actualizar sympy para usar módulo de control"
      ],
      "metadata": {
        "colab": {
          "base_uri": "https://localhost:8080/"
        },
        "id": "iiexcaT_xLGl",
        "outputId": "0b59bca7-cc6e-4efc-f2b6-a8b708bb0cae"
      },
      "execution_count": null,
      "outputs": [
        {
          "output_type": "stream",
          "name": "stdout",
          "text": [
            "Requirement already satisfied: sympy in /usr/local/lib/python3.10/dist-packages (1.12)\n",
            "Requirement already satisfied: mpmath>=0.19 in /usr/local/lib/python3.10/dist-packages (from sympy) (1.3.0)\n"
          ]
        }
      ]
    },
    {
      "cell_type": "code",
      "source": [
        "%matplotlib inline\n",
        "import numpy as np\n",
        "import matplotlib.pyplot as plt\n",
        "import sympy as sym #Mmanejar señales\n",
        "sym.init_printing() #Formato de ecuación\n",
        "#definir variables\n",
        "t, m, c, k = sym.symbols('t m c k', real=True,positive=True)\n",
        "s = sym.symbols('s', complex=True)"
      ],
      "metadata": {
        "id": "x19pD3uAy28r"
      },
      "execution_count": null,
      "outputs": []
    },
    {
      "cell_type": "markdown",
      "source": [
        "Teniendo en cuenta la forma canónica:\n",
        "\n",
        "$$H(s)=\\frac{1}{a_2s^2+a_1s+a_0}$$\n",
        "\n",
        "$$H(s)=K\\frac{\\omega_n^2}{s^2+2\\xi \\omega_ns+\\omega_n^2}$$"
      ],
      "metadata": {
        "id": "fmqY-zwWzuxt"
      }
    },
    {
      "cell_type": "code",
      "source": [
        "#forma canónica del slit\n",
        "a2 = m #CL en circuito equivalente\n",
        "a1 = c #L/R en circuito equivalente\n",
        "ao = k # 1 en circuito equivalente\n",
        "\n",
        "Ko = 1/ao #ganancia circuito forma canónica\n",
        "wn = sym.sqrt(ao/a2)  #frecuencia natural no amortiguada.\n",
        "xi = a1/(2*a2*sym.sqrt(ao/a2)) #Factor de amortiguamiento\n",
        "#función de transferencia\n",
        "H = Ko*wn**2/(s**2+2*xi*wn*s+wn**2)\n",
        "H"
      ],
      "metadata": {
        "colab": {
          "base_uri": "https://localhost:8080/",
          "height": 58
        },
        "id": "CY2jpOhFzvZY",
        "outputId": "c7ce9a1e-f253-4216-818a-9b7142caf071"
      },
      "execution_count": null,
      "outputs": [
        {
          "output_type": "execute_result",
          "data": {
            "text/plain": [
              "       1        \n",
              "────────────────\n",
              "  ⎛c⋅s   k    2⎞\n",
              "m⋅⎜─── + ─ + s ⎟\n",
              "  ⎝ m    m     ⎠"
            ],
            "text/latex": "$\\displaystyle \\frac{1}{m \\left(\\frac{c s}{m} + \\frac{k}{m} + s^{2}\\right)}$"
          },
          "metadata": {},
          "execution_count": 183
        }
      ]
    },
    {
      "cell_type": "code",
      "source": [
        "#calcular polos\n",
        "p1 = -xi*wn + 1j*wn*sym.sqrt(1-xi**2)\n",
        "p2 = -xi*wn - 1j*wn*sym.sqrt(1-xi**2)\n",
        "p1"
      ],
      "metadata": {
        "colab": {
          "base_uri": "https://localhost:8080/",
          "height": 71
        },
        "id": "GNsuXQ4az0SP",
        "outputId": "33d31d92-a040-48a3-9652-c386db06226e"
      },
      "execution_count": null,
      "outputs": [
        {
          "output_type": "execute_result",
          "data": {
            "text/plain": [
              "                      _____________\n",
              "                     ╱      2      \n",
              "                    ╱      c       \n",
              "        1.0⋅ⅈ⋅√k⋅  ╱   - ───── + 1 \n",
              "   c             ╲╱      4⋅k⋅m     \n",
              "- ─── + ───────────────────────────\n",
              "  2⋅m                √m            "
            ],
            "text/latex": "$\\displaystyle - \\frac{c}{2 m} + \\frac{1.0 i \\sqrt{k} \\sqrt{- \\frac{c^{2}}{4 k m} + 1}}{\\sqrt{m}}$"
          },
          "metadata": {},
          "execution_count": 184
        }
      ]
    },
    {
      "cell_type": "code",
      "execution_count": null,
      "metadata": {
        "id": "Vhj8W6sgyY6N"
      },
      "outputs": [],
      "source": []
    }
  ]
}